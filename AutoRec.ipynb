{
 "cells": [
  {
   "cell_type": "code",
   "execution_count": 2,
   "metadata": {
    "pycharm": {
     "name": "#%%\n"
    }
   },
   "outputs": [],
   "source": [
    "import mxnet as mx\n",
    "from mxnet import autograd, gluon, np, npx\n",
    "from mxnet.gluon import nn\n",
    "from d2l import mxnet as d2l\n",
    "import pandas as pd\n",
    "\n",
    "npx.set_np()"
   ]
  },
  {
   "cell_type": "code",
   "execution_count": null,
   "metadata": {
    "pycharm": {
     "name": "#%%\n"
    }
   },
   "outputs": [],
   "source": []
  },
  {
   "cell_type": "code",
   "execution_count": 3,
   "metadata": {
    "pycharm": {
     "name": "#%%\n"
    }
   },
   "outputs": [],
   "source": [
    "class AutoRec(nn.Block):\n",
    "    def __init__(self, num_hidden, num_users, dropout=0.05):\n",
    "        super(AutoRec, self).__init__()\n",
    "        self.encoder = nn.Dense(num_hidden, activation='sigmoid',\n",
    "                                use_bias=True)\n",
    "        self.decoder = nn.Dense(num_users, use_bias=True)\n",
    "        self.dropout = nn.Dropout(dropout)\n",
    "\n",
    "    def forward(self, input):\n",
    "        hidden = self.dropout(self.encoder(input))\n",
    "        pred = self.decoder(hidden)\n",
    "        if autograd.is_training():  # Mask the gradient during training\n",
    "            return pred * np.sign(input)\n",
    "        else:\n",
    "            return pred"
   ]
  },
  {
   "cell_type": "code",
   "execution_count": 4,
   "metadata": {
    "pycharm": {
     "name": "#%%\n"
    }
   },
   "outputs": [],
   "source": [
    "def evaluator(network, inter_matrix, test_data, devices):\n",
    "    scores = []\n",
    "    for values in inter_matrix:\n",
    "        feat = gluon.utils.split_and_load(values, devices, even_split=False)\n",
    "        scores.extend([network(i).asnumpy() for i in feat])\n",
    "    recons = np.array([item for sublist in scores for item in sublist])\n",
    "    # Calculate the test RMSE\n",
    "    rmse = np.sqrt(np.sum(np.square(test_data - np.sign(test_data) * recons))\n",
    "                   / np.sum(np.sign(test_data)))\n",
    "    return float(rmse)"
   ]
  },
  {
   "cell_type": "code",
   "execution_count": 19,
   "outputs": [],
   "source": [
    "def mydisplay(frame):\n",
    "    hahaha = pd.DataFrame(frame)\n",
    "    display(hahaha)"
   ],
   "metadata": {
    "collapsed": false,
    "pycharm": {
     "name": "#%%\n"
    }
   }
  },
  {
   "cell_type": "code",
   "execution_count": 20,
   "metadata": {
    "pycharm": {
     "name": "#%%\n"
    }
   },
   "outputs": [
    {
     "ename": "RecursionError",
     "evalue": "maximum recursion depth exceeded while calling a Python object",
     "output_type": "error",
     "traceback": [
      "\u001B[0;31m---------------------------------------------------------------------------\u001B[0m",
      "\u001B[0;31mRecursionError\u001B[0m                            Traceback (most recent call last)",
      "Input \u001B[0;32mIn [20]\u001B[0m, in \u001B[0;36m<cell line: 5>\u001B[0;34m()\u001B[0m\n\u001B[1;32m      3\u001B[0m df, num_users, num_items \u001B[38;5;241m=\u001B[39m d2l\u001B[38;5;241m.\u001B[39mread_data_ml100k()\n\u001B[1;32m      4\u001B[0m train_data, test_data \u001B[38;5;241m=\u001B[39m d2l\u001B[38;5;241m.\u001B[39msplit_data_ml100k(df, num_users, num_items)\n\u001B[0;32m----> 5\u001B[0m \u001B[43mmydisplay\u001B[49m\u001B[43m(\u001B[49m\u001B[43mdf\u001B[49m\u001B[43m)\u001B[49m\n\u001B[1;32m      6\u001B[0m _, _, _, train_inter_mat \u001B[38;5;241m=\u001B[39m d2l\u001B[38;5;241m.\u001B[39mload_data_ml100k(train_data, num_users,\n\u001B[1;32m      7\u001B[0m                                                 num_items)\n\u001B[1;32m      8\u001B[0m _, _, _, test_inter_mat \u001B[38;5;241m=\u001B[39m d2l\u001B[38;5;241m.\u001B[39mload_data_ml100k(test_data, num_users,\n\u001B[1;32m      9\u001B[0m                                                num_items)\n",
      "Input \u001B[0;32mIn [19]\u001B[0m, in \u001B[0;36mmydisplay\u001B[0;34m(frame)\u001B[0m\n\u001B[1;32m      1\u001B[0m \u001B[38;5;28;01mdef\u001B[39;00m \u001B[38;5;21mmydisplay\u001B[39m(frame):\n\u001B[1;32m      2\u001B[0m     hahaha \u001B[38;5;241m=\u001B[39m pd\u001B[38;5;241m.\u001B[39mDataFrame(frame)\n\u001B[0;32m----> 3\u001B[0m     \u001B[43mdisplay\u001B[49m\u001B[43m(\u001B[49m\u001B[43mhahaha\u001B[49m\u001B[43m)\u001B[49m\n",
      "Input \u001B[0;32mIn [12]\u001B[0m, in \u001B[0;36mdisplay\u001B[0;34m(frame)\u001B[0m\n\u001B[1;32m      1\u001B[0m \u001B[38;5;28;01mdef\u001B[39;00m \u001B[38;5;21mdisplay\u001B[39m(frame):\n\u001B[1;32m      2\u001B[0m     df \u001B[38;5;241m=\u001B[39m pd\u001B[38;5;241m.\u001B[39mDataFrame(frame)\n\u001B[0;32m----> 3\u001B[0m     \u001B[43mdisplay\u001B[49m\u001B[43m(\u001B[49m\u001B[43mdf\u001B[49m\u001B[43m)\u001B[49m\n",
      "Input \u001B[0;32mIn [12]\u001B[0m, in \u001B[0;36mdisplay\u001B[0;34m(frame)\u001B[0m\n\u001B[1;32m      1\u001B[0m \u001B[38;5;28;01mdef\u001B[39;00m \u001B[38;5;21mdisplay\u001B[39m(frame):\n\u001B[1;32m      2\u001B[0m     df \u001B[38;5;241m=\u001B[39m pd\u001B[38;5;241m.\u001B[39mDataFrame(frame)\n\u001B[0;32m----> 3\u001B[0m     \u001B[43mdisplay\u001B[49m\u001B[43m(\u001B[49m\u001B[43mdf\u001B[49m\u001B[43m)\u001B[49m\n",
      "    \u001B[0;31m[... skipping similar frames: display at line 3 (2963 times)]\u001B[0m\n",
      "Input \u001B[0;32mIn [12]\u001B[0m, in \u001B[0;36mdisplay\u001B[0;34m(frame)\u001B[0m\n\u001B[1;32m      1\u001B[0m \u001B[38;5;28;01mdef\u001B[39;00m \u001B[38;5;21mdisplay\u001B[39m(frame):\n\u001B[1;32m      2\u001B[0m     df \u001B[38;5;241m=\u001B[39m pd\u001B[38;5;241m.\u001B[39mDataFrame(frame)\n\u001B[0;32m----> 3\u001B[0m     \u001B[43mdisplay\u001B[49m\u001B[43m(\u001B[49m\u001B[43mdf\u001B[49m\u001B[43m)\u001B[49m\n",
      "Input \u001B[0;32mIn [12]\u001B[0m, in \u001B[0;36mdisplay\u001B[0;34m(frame)\u001B[0m\n\u001B[1;32m      1\u001B[0m \u001B[38;5;28;01mdef\u001B[39;00m \u001B[38;5;21mdisplay\u001B[39m(frame):\n\u001B[0;32m----> 2\u001B[0m     df \u001B[38;5;241m=\u001B[39m \u001B[43mpd\u001B[49m\u001B[38;5;241;43m.\u001B[39;49m\u001B[43mDataFrame\u001B[49m\u001B[43m(\u001B[49m\u001B[43mframe\u001B[49m\u001B[43m)\u001B[49m\n\u001B[1;32m      3\u001B[0m     display(df)\n",
      "File \u001B[0;32m~/.local/lib/python3.8/site-packages/pandas/core/frame.py:521\u001B[0m, in \u001B[0;36mDataFrame.__init__\u001B[0;34m(self, data, index, columns, dtype, copy)\u001B[0m\n\u001B[1;32m    518\u001B[0m \u001B[38;5;28;01mif\u001B[39;00m \u001B[38;5;28misinstance\u001B[39m(data, BlockManager):\n\u001B[1;32m    519\u001B[0m     \u001B[38;5;28;01mif\u001B[39;00m index \u001B[38;5;129;01mis\u001B[39;00m \u001B[38;5;28;01mNone\u001B[39;00m \u001B[38;5;129;01mand\u001B[39;00m columns \u001B[38;5;129;01mis\u001B[39;00m \u001B[38;5;28;01mNone\u001B[39;00m \u001B[38;5;129;01mand\u001B[39;00m dtype \u001B[38;5;129;01mis\u001B[39;00m \u001B[38;5;28;01mNone\u001B[39;00m \u001B[38;5;129;01mand\u001B[39;00m copy \u001B[38;5;129;01mis\u001B[39;00m \u001B[38;5;28;01mFalse\u001B[39;00m:\n\u001B[1;32m    520\u001B[0m         \u001B[38;5;66;03m# GH#33357 fastpath\u001B[39;00m\n\u001B[0;32m--> 521\u001B[0m         \u001B[43mNDFrame\u001B[49m\u001B[38;5;241;43m.\u001B[39;49m\u001B[38;5;21;43m__init__\u001B[39;49m\u001B[43m(\u001B[49m\u001B[38;5;28;43mself\u001B[39;49m\u001B[43m,\u001B[49m\u001B[43m \u001B[49m\u001B[43mdata\u001B[49m\u001B[43m)\u001B[49m\n\u001B[1;32m    522\u001B[0m         \u001B[38;5;28;01mreturn\u001B[39;00m\n\u001B[1;32m    524\u001B[0m     mgr \u001B[38;5;241m=\u001B[39m \u001B[38;5;28mself\u001B[39m\u001B[38;5;241m.\u001B[39m_init_mgr(\n\u001B[1;32m    525\u001B[0m         data, axes\u001B[38;5;241m=\u001B[39m{\u001B[38;5;124m\"\u001B[39m\u001B[38;5;124mindex\u001B[39m\u001B[38;5;124m\"\u001B[39m: index, \u001B[38;5;124m\"\u001B[39m\u001B[38;5;124mcolumns\u001B[39m\u001B[38;5;124m\"\u001B[39m: columns}, dtype\u001B[38;5;241m=\u001B[39mdtype, copy\u001B[38;5;241m=\u001B[39mcopy\n\u001B[1;32m    526\u001B[0m     )\n",
      "File \u001B[0;32m~/.local/lib/python3.8/site-packages/pandas/core/generic.py:204\u001B[0m, in \u001B[0;36mNDFrame.__init__\u001B[0;34m(self, data, copy, attrs)\u001B[0m\n\u001B[1;32m    202\u001B[0m     attrs \u001B[38;5;241m=\u001B[39m \u001B[38;5;28mdict\u001B[39m(attrs)\n\u001B[1;32m    203\u001B[0m \u001B[38;5;28mobject\u001B[39m\u001B[38;5;241m.\u001B[39m\u001B[38;5;21m__setattr__\u001B[39m(\u001B[38;5;28mself\u001B[39m, \u001B[38;5;124m\"\u001B[39m\u001B[38;5;124m_attrs\u001B[39m\u001B[38;5;124m\"\u001B[39m, attrs)\n\u001B[0;32m--> 204\u001B[0m \u001B[38;5;28mobject\u001B[39m\u001B[38;5;241m.\u001B[39m\u001B[38;5;21m__setattr__\u001B[39m(\u001B[38;5;28mself\u001B[39m, \u001B[38;5;124m\"\u001B[39m\u001B[38;5;124m_flags\u001B[39m\u001B[38;5;124m\"\u001B[39m, \u001B[43mFlags\u001B[49m\u001B[43m(\u001B[49m\u001B[38;5;28;43mself\u001B[39;49m\u001B[43m,\u001B[49m\u001B[43m \u001B[49m\u001B[43mallows_duplicate_labels\u001B[49m\u001B[38;5;241;43m=\u001B[39;49m\u001B[38;5;28;43;01mTrue\u001B[39;49;00m\u001B[43m)\u001B[49m)\n",
      "File \u001B[0;32m~/.local/lib/python3.8/site-packages/pandas/core/flags.py:49\u001B[0m, in \u001B[0;36mFlags.__init__\u001B[0;34m(self, obj, allows_duplicate_labels)\u001B[0m\n\u001B[1;32m     47\u001B[0m \u001B[38;5;28;01mdef\u001B[39;00m \u001B[38;5;21m__init__\u001B[39m(\u001B[38;5;28mself\u001B[39m, obj, \u001B[38;5;241m*\u001B[39m, allows_duplicate_labels):\n\u001B[1;32m     48\u001B[0m     \u001B[38;5;28mself\u001B[39m\u001B[38;5;241m.\u001B[39m_allows_duplicate_labels \u001B[38;5;241m=\u001B[39m allows_duplicate_labels\n\u001B[0;32m---> 49\u001B[0m     \u001B[38;5;28mself\u001B[39m\u001B[38;5;241m.\u001B[39m_obj \u001B[38;5;241m=\u001B[39m \u001B[43mweakref\u001B[49m\u001B[38;5;241;43m.\u001B[39;49m\u001B[43mref\u001B[49m\u001B[43m(\u001B[49m\u001B[43mobj\u001B[49m\u001B[43m)\u001B[49m\n",
      "\u001B[0;31mRecursionError\u001B[0m: maximum recursion depth exceeded while calling a Python object"
     ]
    }
   ],
   "source": [
    "devices = d2l.try_all_gpus()\n",
    "# Load the MovieLens 100K dataset\n",
    "df, num_users, num_items = d2l.read_data_ml100k()\n",
    "train_data, test_data = d2l.split_data_ml100k(df, num_users, num_items)\n",
    "mydisplay(df)\n",
    "_, _, _, train_inter_mat = d2l.load_data_ml100k(train_data, num_users,\n",
    "                                                num_items)\n",
    "_, _, _, test_inter_mat = d2l.load_data_ml100k(test_data, num_users,\n",
    "                                               num_items)\n",
    "mydisplay(train_inter_mat)\n",
    "mydisplay(test_inter_mat)\n",
    "\n",
    "train_iter = gluon.data.DataLoader(train_inter_mat, shuffle=True,\n",
    "                                   last_batch=\"rollover\", batch_size=256,\n",
    "                                   num_workers=d2l.get_dataloader_workers())\n",
    "test_iter = gluon.data.DataLoader(np.array(train_inter_mat), shuffle=False,\n",
    "                                  last_batch=\"keep\", batch_size=1024,\n",
    "                                  num_workers=d2l.get_dataloader_workers())\n",
    "# Model initialization, training, and evaluation\n",
    "# net = AutoRec(500, num_users)\n",
    "# net.initialize(ctx=devices, force_reinit=True, init=mx.init.Normal(0.01))\n",
    "# lr, num_epochs, wd, optimizer = 0.002, 25, 1e-5, 'adam'\n",
    "# loss = gluon.loss.L2Loss()\n",
    "# trainer = gluon.Trainer(net.collect_params(), optimizer,\n",
    "#                         {\"learning_rate\": lr, 'wd': wd})\n",
    "# d2l.train_recsys_rating(net, train_iter, test_iter, loss, trainer, num_epochs,\n",
    "#                         devices, evaluator, inter_mat=test_inter_mat)"
   ]
  },
  {
   "cell_type": "code",
   "execution_count": null,
   "metadata": {
    "pycharm": {
     "name": "#%%\n"
    }
   },
   "outputs": [],
   "source": []
  }
 ],
 "metadata": {
  "kernelspec": {
   "display_name": "Python 3 (ipykernel)",
   "language": "python",
   "name": "python3"
  },
  "language_info": {
   "codemirror_mode": {
    "name": "ipython",
    "version": 3
   },
   "file_extension": ".py",
   "mimetype": "text/x-python",
   "name": "python",
   "nbconvert_exporter": "python",
   "pygments_lexer": "ipython3",
   "version": "3.8.10"
  }
 },
 "nbformat": 4,
 "nbformat_minor": 4
}